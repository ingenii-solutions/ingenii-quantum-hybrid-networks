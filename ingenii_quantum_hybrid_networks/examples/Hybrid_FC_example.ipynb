{
 "cells": [
  {
   "cell_type": "markdown",
   "id": "e5fc023a-9203-4035-bb63-342b98fc5432",
   "metadata": {},
   "source": [
    "# Quantum fully connected layer\n",
    "\n",
    "In this notebook we are going to design a hybrid quantum-classical NN, where the quantum NN replaces the last fully connected layers of the network, instead of the initial convolutional layers."
   ]
  },
  {
   "cell_type": "code",
   "execution_count": null,
   "id": "f1ad3856-3c92-44b6-b1f3-b590eb863c11",
   "metadata": {},
   "outputs": [],
   "source": [
    "import matplotlib.pyplot as plt\n",
    "import numpy as np\n",
    "\n",
    "from qiskit import QuantumCircuit\n",
    "from qiskit.circuit import Parameter\n",
    "from qiskit.circuit.library import ZZFeatureMap\n",
    "from qiskit_machine_learning.circuit.library import RawFeatureVector\n",
    "from qiskit.opflow import *\n",
    "from qiskit.utils import algorithm_globals\n",
    "\n",
    "import time\n",
    "\n",
    "import torch\n",
    "from torch.utils.data import DataLoader\n",
    "\n",
    "from ingenii_quantum_hybrid_networks.data.data_reader import Dataset_MLHDF\n",
    "from ingenii_quantum_hybrid_networks.data.img_util import GaussianFilter, Voxelizer3D\n",
    "from ingenii_quantum_hybrid_networks.functions.quantum_FClayer import *\n",
    "\n",
    "algorithm_globals.random_seed = 42"
   ]
  },
  {
   "cell_type": "markdown",
   "id": "3103eedf-8b02-491c-a113-aa37b8fc23b3",
   "metadata": {},
   "source": [
    "## Loading the data\n",
    "\n",
    "We load the 3D embeddings of the refined set to visualize them."
   ]
  },
  {
   "cell_type": "code",
   "execution_count": null,
   "id": "9efb688c-d98a-4aa6-910d-2d3d6ba0306f",
   "metadata": {},
   "outputs": [],
   "source": [
    "batch_size = 5\n",
    "channels = 19\n",
    "vol_dim = 48\n",
    "\n",
    "dataset = Dataset_MLHDF('../data/pdbbind2016_core_test.hdf', 1, '../data/pdbbind2016_core_test_3dnn.csv', is_crystal=True, rmsd_weight=0, rmsd_thres=2)\n",
    "dataloader = DataLoader(dataset, batch_size=batch_size, shuffle=True, num_workers=0, worker_init_fn=None)\n",
    "voxelizer = Voxelizer3D(use_cuda=False, verbose=1, vol_dim=vol_dim)\n",
    "gaussian_filter = GaussianFilter(dim=3, channels=channels, kernel_size=11, sigma=1, use_cuda=False)\n",
    "\n",
    "device = torch.device(\"cpu\")\n",
    "vol_batch = torch.zeros((batch_size, channels, vol_dim, vol_dim, vol_dim)).float().to(device)\n",
    "for batch_ind, batch in enumerate(dataloader):\n",
    "    x_batch, y_batch = batch\n",
    "       # voxelize into 3d volume\n",
    "    for i in range(x_batch.shape[0]):\n",
    "        xyz, feat = x_batch[i,:,:3], x_batch[i,:,3:]\n",
    "        vol_batch[i,:,:,:,:] = voxelizer(xyz, feat)\n",
    "    vol_batch_gaus = gaussian_filter(vol_batch)\n",
    "    break"
   ]
  },
  {
   "cell_type": "code",
   "execution_count": null,
   "id": "84fd2bd3-b12a-4817-8229-114c879bf287",
   "metadata": {},
   "outputs": [],
   "source": [
    "d2 = vol_batch_gaus[0][1].numpy()\n",
    "d = vol_batch[0][1].numpy()\n",
    "\n",
    "fig = plt.figure(figsize=(15,10))\n",
    "ax1 = fig.add_subplot(1,2,1,projection='3d')\n",
    "ax2 = fig.add_subplot(1,2,2,projection='3d')\n",
    "ax1.voxels(d,facecolors='yellow', alpha = 0.4,edgecolor='k')\n",
    "\n",
    "ax1.set_xlabel('X')\n",
    "ax1.set_ylabel('Y')\n",
    "ax1.set_zlabel('Z')\n",
    "\n",
    "colors = plt.cm.plasma(d2)\n",
    "ax2.voxels(d2,facecolors=colors,alpha = 0.2,edgecolor='k')\n",
    "\n",
    "ax2.set_xlabel('X')\n",
    "ax2.set_ylabel('Y')\n",
    "ax2.set_zlabel('Z')\n",
    "\n",
    "plt.show()"
   ]
  },
  {
   "cell_type": "markdown",
   "id": "bd016095-2b9d-41c7-b0a2-b076aca2575d",
   "metadata": {},
   "source": [
    "## Creating a FC layer\n",
    "\n",
    "Here we show an example of how we would create a Quantum fully-connected layer, that we can then use in our hybrid neural network."
   ]
  },
  {
   "cell_type": "markdown",
   "id": "59d003d1-dff5-4f5b-a93c-16d8a940aef2",
   "metadata": {},
   "source": [
    "### Example 1"
   ]
  },
  {
   "cell_type": "code",
   "execution_count": 4,
   "id": "c54ea9a4-2c67-495f-beeb-745380ba2377",
   "metadata": {},
   "outputs": [
    {
     "data": {
      "text/plain": [
       "['ZIII', 'IZII', 'IIZI', 'IIIZ']"
      ]
     },
     "execution_count": 4,
     "metadata": {},
     "output_type": "execute_result"
    }
   ],
   "source": [
    "# One example of observables to measure (measure <Z> for all the qubits)\n",
    "input_size=4\n",
    "obs = [\n",
    "    \"I\" * i + \"Z\" + \"I\" * (input_size - i - 1)\n",
    "    for i in range(input_size)\n",
    "]\n",
    "# e.g. [\n",
    "#   'ZIII',\n",
    "#   'IZII',\n",
    "#   'IIZI',\n",
    "#   'IIIZ'\n",
    "# ]\n"
   ]
  },
  {
   "cell_type": "code",
   "execution_count": null,
   "id": "180933d2-60de-4e22-9c7a-e02ad2154287",
   "metadata": {},
   "outputs": [],
   "source": [
    "# Initializing the class\n",
    "qnn= QuantumFCLayer(\n",
    "    input_size=input_size, n_layers=1, encoding='qubit',\n",
    "    ansatz=1, obs_name=obs, backend = 'aer_simulator_statevector')\n",
    "\n",
    "# Create the quantum layer\n",
    "qnn_layer = qnn.create_layer()"
   ]
  },
  {
   "cell_type": "code",
   "execution_count": null,
   "id": "6d23d3a6-e82e-42df-b595-c917dbff801d",
   "metadata": {},
   "outputs": [],
   "source": [
    "# Now you can use it as a normal FC layer. Let's calculate the output of a tensor\n",
    "qnn_layer(torch.rand([2,input_size]))"
   ]
  },
  {
   "cell_type": "markdown",
   "id": "5bd438d6-3e24-4280-ba4e-64ef1366baa8",
   "metadata": {},
   "source": [
    "### Example 2"
   ]
  },
  {
   "cell_type": "code",
   "execution_count": null,
   "id": "b432fb2e-15b1-4a05-a0d4-43f45c98392b",
   "metadata": {},
   "outputs": [],
   "source": [
    "# Another example with different parameters\n",
    "nfeatures = 32\n",
    "qnn= QuantumFCLayer(nfeatures, n_layers=2, encoding='amplitude', ansatz=2, obs_name = \"Z\"*10)\n",
    "\n",
    "qnn_layer = qnn.create_layer()"
   ]
  },
  {
   "cell_type": "code",
   "execution_count": null,
   "id": "3738df68-ab53-4468-bd98-a358c085626e",
   "metadata": {},
   "outputs": [],
   "source": [
    "qnn_layer(torch.rand([2,nfeatures]))"
   ]
  },
  {
   "cell_type": "markdown",
   "id": "95128804-64a7-4497-8622-30cb661cfb75",
   "metadata": {},
   "source": [
    "## Create the hybrid quantum-classical neural network\n",
    "\n",
    "Here we provide an example of how to create a hybrid neural network, using the quantum layer as a fully-connecte layer."
   ]
  },
  {
   "cell_type": "code",
   "execution_count": null,
   "id": "7fcc6b8f-1c61-481a-ab2b-87339a9a98a8",
   "metadata": {},
   "outputs": [],
   "source": [
    "import numpy as np\n",
    "from torch import flatten as torch_flatten, nn\n",
    "\n",
    "\n",
    "class Model_hybrid(nn.Module):\n",
    "\n",
    "    def __init__(self, feat_dim=19, n_layers = 2, num_filters=[57,128,256], verbose=0, \n",
    "                encoding='qubit', ansatz=1, obs_name = \"Z\"*8, backend = \"aer_simulator_statevector\"):\n",
    "        super(Model_hybrid, self).__init__()\n",
    "        \n",
    "        self.feat_dim = feat_dim\n",
    "        self.num_filters = num_filters\n",
    "        self.verbose = verbose\n",
    "\n",
    "        self.feat_dim = feat_dim\n",
    "        self.num_filters = num_filters\n",
    "        self.verbose = verbose\n",
    "\n",
    "        self.conv1 = nn.Conv3d(feat_dim, num_filters[0], 7, 2, 3)\n",
    "        self.bn1 = nn.BatchNorm3d(num_filters[0])\n",
    "        \n",
    "        self.conv2 = nn.Conv3d(num_filters[0], self.num_filters[1], 7, 3, 3)\n",
    "        self.bn2 = nn.BatchNorm3d(self.num_filters[1])\n",
    "        self.max_pool1 = nn.MaxPool3d(2)\n",
    "\n",
    "        self.conv3 = nn.Conv3d(self.num_filters[1], self.num_filters[2], 5, 2, 2)\n",
    "        self.bn3 = nn.BatchNorm3d(self.num_filters[2])\n",
    "        self.max_pool2 = nn.MaxPool3d(2)\n",
    "\n",
    "        self.fc1 = nn.Linear(2048, 10)\n",
    "        self.relu = nn.ReLU()\n",
    "        \n",
    "        ##################################################################################################\n",
    "        # Quantum part\n",
    "        self.qnn_inst = QuantumFCLayer(10, n_layers, encoding, ansatz, obs_name, backend)\n",
    "        self.qnn = self.qnn_inst.create_layer()\n",
    "        ##################################################################################################\n",
    "        \n",
    "        self.fc2 = nn.Linear(10,1)\n",
    "        self.relu = nn.ReLU()\n",
    "\n",
    "    def forward(self, x):\n",
    "        if x.dim() == 1:\n",
    "            x = x.unsqueeze(-1)\n",
    "        if self.verbose != 0:\n",
    "            print('Input', list(x.size()))\n",
    "        \n",
    "        conv1= self.conv1(x)\n",
    "        if self.verbose != 0:\n",
    "            print('Conv1 (7x7x7)', list(conv1.shape))\n",
    "\n",
    "        conv2 = self.conv2(conv1)\n",
    "        conv2 = self.bn2(self.relu(conv2))\n",
    "        if self.verbose != 0:\n",
    "            print('Conv2 (7x7x7)', list(conv2.shape))\n",
    "        \n",
    "        pool1 = self.max_pool1(conv2)\n",
    "        if self.verbose != 0:\n",
    "            print('Pooling 1', list(pool1.shape))\n",
    "            \n",
    "        conv3 = self.conv3(conv2)\n",
    "        conv3 = self.bn3(self.relu(conv3))\n",
    "        if self.verbose != 0:\n",
    "            print('Conv 3 (7x7x7)',list(conv3.shape))\n",
    "\n",
    "        pool2 = self.max_pool2(conv3)\n",
    "        if self.verbose != 0:\n",
    "            print('Pooling 2', list(pool2.shape))\n",
    "\n",
    "        flatten = torch_flatten(pool2, start_dim=1)\n",
    "        if self.verbose != 0:\n",
    "            print('Flatten', list(flatten.shape))\n",
    "\n",
    "        fc1 = self.fc1(flatten)\n",
    "        fc1 = self.relu(fc1)\n",
    "        if self.verbose != 0:\n",
    "            print('Fc1', list(fc1.shape))\n",
    "            \n",
    "        # Quantum part\n",
    "        quantum = self.qnn(fc1)\n",
    "        if self.verbose != 0:\n",
    "            print('Quantum', list(quantum.shape))\n",
    "            \n",
    "        fc2 = self.fc2(quantum)\n",
    "        if self.verbose != 0:\n",
    "            print('Fc2', list(fc2.shape))\n",
    "            \n",
    "        return fc2\n",
    "    \n",
    "def count_parameters(model):\n",
    "    return sum(p.numel() for p in model.parameters() if p.requires_grad)"
   ]
  },
  {
   "cell_type": "code",
   "execution_count": null,
   "id": "cf760607-4b33-4899-8888-8c1c7667d4ba",
   "metadata": {},
   "outputs": [],
   "source": [
    "model1 = Model_hybrid(verbose=1, obs_name=obs)"
   ]
  },
  {
   "cell_type": "code",
   "execution_count": null,
   "id": "979d67e2-02e7-45b4-92c1-a64c446dff78",
   "metadata": {},
   "outputs": [],
   "source": [
    "print('Number of parameters hybrid CNN: ', count_parameters(model1))"
   ]
  },
  {
   "cell_type": "code",
   "execution_count": null,
   "id": "b14ca5cd-471f-457e-a187-bbf8c4d6a95a",
   "metadata": {},
   "outputs": [],
   "source": [
    "# forward training\n",
    "ypred_batch1 = model1(vol_batch[:x_batch.shape[0]])"
   ]
  },
  {
   "cell_type": "markdown",
   "id": "40d3438c-54fd-490b-aa35-0dcd5a08374a",
   "metadata": {},
   "source": [
    "## Training steps\n",
    "\n",
    "Here we provide an example of how to train the model. Notice that the training process is the same as if we were training a neural network with pytorch. We train the model for 1 epoch as an example. We use Adam optimizer with learning rate 0.1."
   ]
  },
  {
   "cell_type": "code",
   "execution_count": null,
   "id": "7c46335d-1ac7-4ac5-88a7-764e0344a332",
   "metadata": {},
   "outputs": [],
   "source": [
    "from torch.nn import MSELoss\n",
    "from torch.optim import Adam\n",
    "\n",
    "dataset = Dataset_MLHDF('../data/pdbbind2016_refined_val.hdf', 1, '../data/refined_val_3dnn.csv', is_crystal=True, rmsd_weight=0, rmsd_thres=100)\n",
    "val_dataset = Dataset_MLHDF('../data/pdbbind2016_core_test.hdf', 1, '../data/core_test_3dnn.csv', is_crystal=True, rmsd_weight=0, rmsd_thres=100)\n",
    "dataloader = DataLoader(dataset, batch_size=20, shuffle=True, num_workers=0, worker_init_fn=None)\n",
    "val_dataloader = DataLoader(val_dataset, batch_size=20, shuffle=False, num_workers=0, worker_init_fn=None)\n",
    "voxelizer = Voxelizer3D(use_cuda=False, verbose=1,vol_dim=48)\n",
    "gaussian_filter = GaussianFilter(dim=3, channels=19, kernel_size=11, sigma=1, use_cuda=False)\n",
    "\n",
    "# Training params\n",
    "epoch_count=1 \n",
    "start_time = time.time()\n",
    "\n",
    "model1 = Model_hybrid(verbose=0, obs_name=obs)\n",
    "\n",
    "# Define optimizer and loss function\n",
    "optimizer1 = Adam(model1.parameters(), lr=0.1)\n",
    "loss_func1 = MSELoss(reduction=\"sum\")\n",
    "batch_count = len(dataset) // 20\n",
    "\n",
    "# Training loop\n",
    "for epoch_ind in range(0, epoch_count):\n",
    "    losses = []\n",
    "    vol_batch = torch.zeros((20,19,48,48,48)).float()\n",
    "    for batch_ind, batch in enumerate(dataloader):\n",
    "        x_batch_cpu, y_batch_cpu = batch\n",
    "        x_batch, y_batch = x_batch_cpu, y_batch_cpu\n",
    "        # voxelize into 3d volume\n",
    "        for i in range(x_batch.shape[0]):\n",
    "            xyz, feat = x_batch[i, :, :3], x_batch[i, :, 3:]\n",
    "            vol_batch[i, :, :, :, :] = voxelizer(xyz, feat)\n",
    "        vol_batch = gaussian_filter(vol_batch)\n",
    "        \n",
    "        # forward training\n",
    "        ypred_batch  = model1(vol_batch[:x_batch.shape[0]])\n",
    "        loss = loss_func1(ypred_batch.cpu().float(), y_batch_cpu.float())\n",
    "        losses.append(loss.cpu().data.item())\n",
    "        optimizer1.zero_grad()\n",
    "        loss.backward()\n",
    "        optimizer1.step()\n",
    "        losses.append(loss.cpu().data.item())\n",
    "        time_step = time.time() - start_time\n",
    "        print(\"[%d/%d-%d/%d] training, loss: %.3f, time so far: %.3f seconds\" % (epoch_ind+1, epoch_count,\n",
    "                  batch_ind+1, batch_count, loss.cpu().data.item(), time_step))\n",
    "        \n",
    "    print(\"[%d/%d] training, epoch loss: %.3f, time so far: %.3f seconds\\n\" %\n",
    "              (epoch_ind+1, epoch_count, np.mean(losses), time_step))\n",
    "    \n",
    "    val_losses = []\n",
    "    for batch_ind, batch in enumerate(val_dataloader):\n",
    "        x_batch_cpu, y_batch_cpu = batch\n",
    "        x_batch, y_batch = x_batch_cpu, y_batch_cpu\n",
    "        # voxelize into 3d volume\n",
    "        for i in range(x_batch.shape[0]):\n",
    "            xyz, feat = x_batch[i, :, :3], x_batch[i, :, 3:]\n",
    "            vol_batch[i, :, :, :, :] = voxelizer(xyz, feat)\n",
    "        vol_batch = gaussian_filter(vol_batch)\n",
    "        ypred_batch = model1(vol_batch[:x_batch.shape[0]])\n",
    "        loss = loss_func1(ypred_batch.cpu().float(),\n",
    "                                       y_batch_cpu.float())\n",
    "        print(\"[%d/%d-%d/%d] validation, loss: %.3f\" % (epoch_ind+1,\n",
    "                          epoch_count, batch_ind+1, batch_count, loss.cpu().data.item()))\n",
    "        \n",
    "        val_losses.append(loss.cpu().data.item())\n",
    "        \n",
    "    print(\"[%d/%d] validation, epoch loss: %.3f\\n\" %\n",
    "                      (epoch_ind+1, epoch_count, np.mean(val_losses)))\n",
    "\n",
    "# close dataset\n",
    "dataset.close()\n",
    "val_dataset.close()"
   ]
  },
  {
   "cell_type": "markdown",
   "id": "c2d16deb-e667-43ef-b9e5-83430bdee640",
   "metadata": {},
   "source": [
    "### Code to save the model"
   ]
  },
  {
   "cell_type": "code",
   "execution_count": null,
   "id": "837c7edb-1778-4c2d-ac40-9d756297d4f0",
   "metadata": {},
   "outputs": [],
   "source": [
    "# Save the model\n",
    "torch.save(model1.state_dict(), \"model1_fc.pt\")"
   ]
  },
  {
   "cell_type": "markdown",
   "id": "d89a6bc5-dad7-4502-8f18-53f3d55607e2",
   "metadata": {},
   "source": [
    "### Code to load the model"
   ]
  },
  {
   "cell_type": "code",
   "execution_count": null,
   "id": "41adf279-1e8f-41f1-9eed-267e38492dd4",
   "metadata": {},
   "outputs": [],
   "source": [
    "# Load a model\n",
    "loaded_model = Model_hybrid(verbose=0)\n",
    "loaded_model.load_state_dict(torch.load(\"model1_fc.pt\"))"
   ]
  },
  {
   "cell_type": "markdown",
   "id": "ce955adf-169e-443d-a140-d0d2640f7fdf",
   "metadata": {},
   "source": [
    "## Available architectures for the Quantum Fully-connected layer\n",
    "\n",
    "Here we describe the different implemented architectures for the quantum fully-connected layer, that the user can explore and play with. Such quantum layer contains two parts: a data encoding layer and a parametrized quantum circuit. \n",
    "\n",
    "## Data encoding\n",
    "\n",
    "It is the process of encoding classical data into a quantum circuit. We propose different alternatives."
   ]
  },
  {
   "cell_type": "markdown",
   "id": "8a489cd4-c36b-4c36-8c81-ee8405d201a7",
   "metadata": {},
   "source": [
    "### 1. Qubit encoding\n",
    "\n",
    "This is the default encoding. This encoding uses one qubit for each classical number that we want to encode. However, it ony uses one quantum gate for each qubit.\n",
    "\n",
    "$$\n",
    "|\\phi(x)> = \\otimes_{i=1}^N (\\cos(\\frac{x_i}{2} |0> + \\sin(\\frac{x_i}{2} |1>)\n",
    "$$\n",
    "\n",
    "Example:"
   ]
  },
  {
   "cell_type": "code",
   "execution_count": null,
   "id": "af2c56a8-fcac-4603-8deb-392393fb23d6",
   "metadata": {},
   "outputs": [],
   "source": [
    "nqbits = 4\n",
    "\n",
    "qc_input = QuantumCircuit(nqbits)\n",
    "\n",
    "# 1. Ry gates Initialization\n",
    "thetas_ry_input = [Parameter('thetas_input_' + str(i)) for i in range(nqbits)]#qiskit.circuit.ParameterVector('thetas_ry1', nqbits)  \n",
    "for i in range(nqbits):\n",
    "    qc_input.ry(thetas_ry_input[i], i)"
   ]
  },
  {
   "cell_type": "code",
   "execution_count": null,
   "id": "380c9a11-2db1-40ad-b210-98b40af203f5",
   "metadata": {},
   "outputs": [],
   "source": [
    "qc_input.draw('mpl')"
   ]
  },
  {
   "cell_type": "markdown",
   "id": "44d27184-fa8d-463b-b8c0-42fb895df888",
   "metadata": {},
   "source": [
    "### 2. Amplitude encoding\n",
    "\n",
    "This encoding uses a $log_2(\\text{features})$ qubits to encode the data, but it requires many more quantum gates.\n",
    "\n",
    "$$\n",
    "|\\phi(x)> = \\frac{1}{|x|} \\sum_{i=1}^N x_i |i>\n",
    "$$\n",
    "\n",
    "Notice that this initialization can not be optimized with gradient-based optimizers."
   ]
  },
  {
   "cell_type": "code",
   "execution_count": null,
   "id": "64d45f04-034f-402d-ab30-9a9fb4d4e21b",
   "metadata": {},
   "outputs": [],
   "source": [
    "nqbits = 4\n",
    "\n",
    "# 1. Amplitude encoding initialization\n",
    "qc_input2 = RawFeatureVector(2**nqbits)"
   ]
  },
  {
   "cell_type": "code",
   "execution_count": null,
   "id": "065a48c0-43c0-4e83-a029-d6ee9db16fc3",
   "metadata": {},
   "outputs": [],
   "source": [
    "qc_input2.draw('mpl')"
   ]
  },
  {
   "cell_type": "markdown",
   "id": "7aa386af-49d7-4835-906c-928630d08efa",
   "metadata": {},
   "source": [
    "### 3. ZZFeatureMap\n",
    "\n",
    "Second-order Pauli-Z evolution circuit."
   ]
  },
  {
   "cell_type": "code",
   "execution_count": null,
   "id": "db7cb59d-a467-43f9-beaf-08fa4745d2a2",
   "metadata": {},
   "outputs": [],
   "source": [
    "nqbits = 4\n",
    "qc_input = ZZFeatureMap(nqbits, reps=1)\n",
    "\n",
    "qc_input.decompose().draw('mpl')"
   ]
  },
  {
   "cell_type": "markdown",
   "id": "aa37eedd-4430-47c9-aee7-fedca6aedb82",
   "metadata": {},
   "source": [
    "## Ansatz\n",
    "\n",
    "The second part of the circuit is a paramterized quantum circuit (PQC). The choice of this quantum circuit (ansatz) determines the performance of the model. In Ref. [1], the authors explore different choces of PQC and measure two quantum properties: the Expressability and the Entanglement capacity.\n",
    "\n",
    "+ Expressibility measures a PQC’s ability to explore the Hilbert Space, that is, to produce different quantum states. To measure it, one calculates the probability distribution of the fidelity of two random states from the circuit. This distribution is then compared with the random distribution (Haar random states). The KL divergence of the two distributions is the Expressibility of the circuit. The value of Expressibility is less for more expressive circuits.\n",
    "\n",
    "+ Entanglement Capability is a numerical method that quantifies a PQCs ability to produce entangled states. It averages the Meyer-Wallach entanglement measure (Q) over many random samples obtained from the PQC.\n",
    "\n",
    "Expressibility and Entanglement Capability are descriptors that allow comparison of layered PQCs. For this reason, we provide circuits with different values of Expressibility and Entangling capacity. We provide six PQC, ordered in terms of performance and lower complexity based on Refs. [2],[3],[1]. \n",
    "\n",
    "[1] Sim, S., Johnson, P.D. and Aspuru-Guzik, A. (2019), Expressibility and Entangling Capability of Parameterized Quantum Circuits for Hybrid Quantum-Classical Algorithms. Adv. Quantum Technol., 2: 1900070. https://doi.org/10.1002/qute.201900070\n",
    "\n",
    "[2] Tüysüz, C., Rieger, C., Novotny, K. et al. Hybrid quantum classical graph neural networks for particle track reconstruction. Quantum Mach. Intell. 3, 29 (2021). https://doi.org/10.1007/s42484-021-00055-9\n",
    "\n",
    "[3] Hur, Tak & Kim, Leeseok & Park, Daniel. (2021). Quantum convolutional neural network for classical data classification. https://doi.org/10.1103/PhysRevResearch.4.013231\n"
   ]
  },
  {
   "cell_type": "markdown",
   "id": "c217df85-dc30-4b1d-9063-eb796cb3ae72",
   "metadata": {},
   "source": [
    "### 1. Circuit 10 \n",
    "\n",
    "This circuit has low expressability. It provided the best performance for the NN in Ref. [2]. It's option 1 for the Quantum Layer."
   ]
  },
  {
   "cell_type": "code",
   "execution_count": null,
   "id": "58cab04d-43c7-4c1c-9e3e-2bf3071ea399",
   "metadata": {},
   "outputs": [],
   "source": [
    "nqbits = 4\n",
    "qc_ansatz = QuantumCircuit(nqbits)    \n",
    "# Choose the number of layers of the PQC\n",
    "n_layers = 2\n",
    "thetas_ry_weight = []\n",
    "qbit_list = [(nqbits-1, nqbits-2)] + [(i,i-1) for i in range(nqbits-2,0,-1)] + [(nqbits-1,0)]\n",
    "for layer in range(n_layers):\n",
    "    # 2. Phase shifts\n",
    "    for (qbit1, qbit2) in qbit_list:\n",
    "        qc_ansatz.cz(qbit1, qbit2)\n",
    "    qc_ansatz.barrier()\n",
    "\n",
    "    # 3. Ry gates\n",
    "    thetas_new = [Parameter('thetas_ry' + str(layer+1)+'_'+str(i))  for i in range(nqbits)]\n",
    "    thetas_ry_weight += thetas_new\n",
    "    for i in range(nqbits):\n",
    "        qc_ansatz.ry(thetas_new[i], i)\n",
    "    "
   ]
  },
  {
   "cell_type": "code",
   "execution_count": null,
   "id": "69f6df49-75fa-4584-94ff-60817fd4120c",
   "metadata": {},
   "outputs": [],
   "source": [
    "qc_ansatz.draw('mpl')"
   ]
  },
  {
   "cell_type": "markdown",
   "id": "8fbf4bdb-bdcd-4b1d-b097-dedf0a433ecf",
   "metadata": {
    "tags": []
   },
   "source": [
    "### Circuit 9\n",
    "This circuit has the best Entangling capacity from the study in Ref. [1]. It's option 2 for the Quantum Layer."
   ]
  },
  {
   "cell_type": "code",
   "execution_count": null,
   "id": "a5b662c7-aecf-4c50-8f66-bbc5c9abc04e",
   "metadata": {},
   "outputs": [],
   "source": [
    "nqbits = 4\n",
    "qc_ansatz = QuantumCircuit(nqbits)\n",
    "\n",
    "n_layers = 2\n",
    "thetas_rx_weight = []\n",
    "qbit_list = [(i,i-1) for i in range(nqbits-1,0,-1)]\n",
    "for layer in range(n_layers):\n",
    "    # 1. Hadamard\n",
    "    for q in range(nqbits):\n",
    "        qc_ansatz.h(q)\n",
    "    # 2. Phase shifts\n",
    "    for (qbit1, qbit2) in qbit_list:\n",
    "        qc_ansatz.cz(qbit1, qbit2)\n",
    "\n",
    "    # 3. Ry gates\n",
    "    thetas_new = [Parameter('thetas_rx' + str(layer+1)+'_'+str(i))  for i in range(nqbits)]\n",
    "    thetas_rx_weight += thetas_new\n",
    "    for i in range(nqbits):\n",
    "        qc_ansatz.rx(thetas_new[i], i)\n",
    "    qc_ansatz.barrier()\n",
    "    \n",
    "qc_ansatz.draw('mpl')    "
   ]
  },
  {
   "cell_type": "markdown",
   "id": "062b48c8-a3dd-4aa9-8d6d-47559115bc70",
   "metadata": {},
   "source": [
    "### Circuit 15\n",
    "\n",
    "This circuit has high entangling capacity and low expressability. It has lower complexiyt than circuits 14 and 13. It's option 3 for the Quantum Layer."
   ]
  },
  {
   "cell_type": "code",
   "execution_count": null,
   "id": "405ff821-bd35-495d-9079-f1c96ed9bff6",
   "metadata": {},
   "outputs": [],
   "source": [
    "nqbits = 4\n",
    "qc_ansatz = QuantumCircuit(nqbits)\n",
    "\n",
    "n_layers = 1\n",
    "thetas_ry_list = []\n",
    "qbit_list = [(0, nqbits-1)] + [(i,i-1) for i in range(nqbits-1,0,-1)]\n",
    "qbit_list2 = [(nqbits-2, nqbits-1), (nqbits-1,0)] + [(i,i+1) for i in range(0, nqbits-2)]\n",
    "for layer in range(n_layers):\n",
    "    # 1. Ry gates\n",
    "    thetas_new = [Parameter('thetas_ry_1_' + str(layer+1)+'_'+str(i))  for i in range(nqbits)]\n",
    "    thetas_ry_list += thetas_new\n",
    "    for q in range(nqbits):\n",
    "        qc_ansatz.ry(thetas_new[q], q)\n",
    "    # 2. CNOTS\n",
    "    for (qbit1, qbit2) in qbit_list:\n",
    "        qc_ansatz.cx(qbit2, qbit1)\n",
    "    # 3. Ry gates\n",
    "    thetas_new = [Parameter('thetas_ry_2_' + str(layer+1)+'_'+str(i))  for i in range(nqbits)]\n",
    "    thetas_ry_list += thetas_new\n",
    "    for i in range(nqbits):\n",
    "        qc_ansatz.ry(thetas_new[i], i)\n",
    "    # 4. CNOTS\n",
    "    for (qbit1, qbit2) in qbit_list2:\n",
    "        qc_ansatz.cx(qbit2, qbit1)\n",
    "    qc_ansatz.barrier()\n",
    "    \n",
    "qc_ansatz.draw('mpl')    "
   ]
  },
  {
   "cell_type": "markdown",
   "id": "11e21368-ab85-475d-8dfa-6405cdea431a",
   "metadata": {},
   "source": [
    "### Circuit 14\n",
    "\n",
    "This circuit balanced significance in entangling capacity and expressability. It has higher complexiy than circuit 15. It's option 4 for the Quantum Layer."
   ]
  },
  {
   "cell_type": "code",
   "execution_count": null,
   "id": "26a3bd41-a849-479a-80ac-07f204943224",
   "metadata": {},
   "outputs": [],
   "source": [
    "nqbits = 4\n",
    "n_layers = 1\n",
    "\n",
    "qc_ansatz = QuantumCircuit(nqbits)\n",
    "thetas_ry_list = []\n",
    "thetas_crx_list = []\n",
    "qbit_list = [(0, nqbits-1)] + [(i,i-1) for i in range(nqbits-1,0,-1)]\n",
    "qbit_list2 = [(nqbits-2, nqbits-1), (nqbits-1,0)] + [(i,i+1) for i in range(0, nqbits-2)]\n",
    "for layer in range(n_layers):\n",
    "    # 1. Ry gates\n",
    "    thetas_new = [Parameter('thetas_ry_1_' + str(layer+1)+'_'+str(i))  for i in range(nqbits)]\n",
    "    thetas_ry_list += thetas_new\n",
    "    for q in range(nqbits):\n",
    "        qc_ansatz.ry(thetas_new[q], q)\n",
    "    # 2. Controlled Rx\n",
    "    thetas_new = [Parameter('thetas_crx_1_' + str(layer+1)+'_'+str(i))  for i in range(nqbits)]\n",
    "    thetas_crx_list+=thetas_new\n",
    "    i=0\n",
    "    for (qbit1, qbit2) in qbit_list:\n",
    "        qc_ansatz.crx(thetas_new[i],qbit2, qbit1)\n",
    "        i+=1\n",
    "    # 3. Ry gates\n",
    "    thetas_new = [Parameter('thetas_ry_2_' + str(layer+1)+'_'+str(i))  for i in range(nqbits)]\n",
    "    thetas_ry_list += thetas_new\n",
    "    for i in range(nqbits):\n",
    "        qc_ansatz.ry(thetas_new[i], i)\n",
    "    # 4. Controlled Rx\n",
    "    thetas_new = [Parameter('thetas_crx_2_' + str(layer+1)+'_'+str(i))  for i in range(nqbits)]\n",
    "    thetas_crx_list+=thetas_new\n",
    "    i=0\n",
    "    for (qbit1, qbit2) in qbit_list2:\n",
    "        qc_ansatz.crx(thetas_new[i],qbit2, qbit1)\n",
    "        i+=1\n",
    "    qc_ansatz.barrier()\n",
    "    \n",
    "qc_ansatz.draw('mpl')    "
   ]
  },
  {
   "cell_type": "markdown",
   "id": "a354a46e-65d8-4799-b32b-ab13e855d356",
   "metadata": {},
   "source": [
    "### Circuit 13\n",
    "\n",
    "This circuit balanced significance in entangling capacity and expressability. It has higher complexiy than circuit 15. It's option 5 for the Quantum Layer."
   ]
  },
  {
   "cell_type": "code",
   "execution_count": null,
   "id": "19edbf85-da17-411c-b6f3-c2f34f73de7b",
   "metadata": {},
   "outputs": [],
   "source": [
    "nqbits = 4\n",
    "n_layers = 1\n",
    "\n",
    "qc_ansatz = QuantumCircuit(nqbits)\n",
    "thetas_ry_list = []\n",
    "thetas_crz_list = []\n",
    "qbit_list = [(0, nqbits-1)] + [(i,i-1) for i in range(nqbits-1,0,-1)]\n",
    "qbit_list2 = [(nqbits-2, nqbits-1), (nqbits-1,0)] + [(i,i+1) for i in range(0, nqbits-2)]\n",
    "for layer in range(n_layers):\n",
    "    # 1. Ry gates\n",
    "    thetas_new = [Parameter('thetas_ry_1_' + str(layer+1)+'_'+str(i))  for i in range(nqbits)]\n",
    "    thetas_ry_list += thetas_new\n",
    "    for q in range(nqbits):\n",
    "        qc_ansatz.ry(thetas_new[q], q)\n",
    "    # 2. Controlled Rx\n",
    "    thetas_new = [Parameter('thetas_crx_1_' + str(layer+1)+'_'+str(i))  for i in range(nqbits)]\n",
    "    thetas_crz_list+=thetas_new\n",
    "    i=0\n",
    "    for (qbit1, qbit2) in qbit_list:\n",
    "        qc_ansatz.crz(thetas_new[i],qbit2, qbit1)\n",
    "        i+=1\n",
    "    # 3. Ry gates\n",
    "    thetas_new = [Parameter('thetas_ry_2_' + str(layer+1)+'_'+str(i))  for i in range(nqbits)]\n",
    "    thetas_ry_list += thetas_new\n",
    "    for i in range(nqbits):\n",
    "        qc_ansatz.ry(thetas_new[i], i)\n",
    "    # 4. Controlled Rx\n",
    "    thetas_new = [Parameter('thetas_crx_2_' + str(layer+1)+'_'+str(i))  for i in range(nqbits)]\n",
    "    thetas_crz_list+=thetas_new\n",
    "    i=0\n",
    "    for (qbit1, qbit2) in qbit_list2:\n",
    "        qc_ansatz.crz(thetas_new[i],qbit2, qbit1)\n",
    "        i+=1\n",
    "    qc_ansatz.barrier()\n",
    "    \n",
    "qc_ansatz.draw('mpl')    "
   ]
  },
  {
   "cell_type": "markdown",
   "id": "b6ae3178-c0b8-4a77-b900-478bf3092623",
   "metadata": {},
   "source": [
    "### 2. Circuit 6\n",
    "\n",
    "This circuit has the highest expressability, but very high complexity. It's option 6 for the Quantum Layer."
   ]
  },
  {
   "cell_type": "code",
   "execution_count": null,
   "id": "39c9aab4-0b5e-42a2-b7b5-efd94d70e304",
   "metadata": {},
   "outputs": [],
   "source": [
    "nqbits = 3\n",
    "qc_ansatz = QuantumCircuit(nqbits)    \n",
    "\n",
    "n_layers = 2\n",
    "thetas_rx_list = []\n",
    "thetas_rz_list = []\n",
    "thetas_crx_list = []\n",
    "for layer in range(n_layers):    \n",
    "    thetas_rx = [Parameter('thetas_rx' +str(layer+1)+ '_'+str(i))  for i in range(2*nqbits)]\n",
    "    thetas_rz = [Parameter('thetas_rz' + str(layer+1)+'_'+str(i))  for i in range(2*nqbits)]\n",
    "    thetas_crx = [Parameter('thetas_crx' +str(layer+1)+ '_'+str(i))  for i in range((nqbits-1)*nqbits)]\n",
    "    thetas_rx_list+=thetas_rx\n",
    "    thetas_rz_list+=thetas_rz\n",
    "    thetas_crx_list+=thetas_crx\n",
    "    \n",
    "    # First Rx layer\n",
    "    for i in range(nqbits):\n",
    "        qc_ansatz.rx(thetas_rx[i],i)\n",
    "\n",
    "    # First Ry layer\n",
    "    for i in range(nqbits):\n",
    "        qc_ansatz.rz(thetas_rz[i],i)\n",
    "\n",
    "    # Controlled Rx\n",
    "    l=0\n",
    "    for i in range(nqbits-1,-1,-1): # i= controlled qubits\n",
    "        qubits = list(range(nqbits-1,-1,-1))\n",
    "        qubits.remove(i)\n",
    "        for q in qubits:\n",
    "            qc_ansatz.crx(thetas_crx[l], i,q)\n",
    "            l+=1\n",
    "\n",
    "    # Second Rx layer\n",
    "    for i in range(nqbits):\n",
    "        qc_ansatz.rx(thetas_rx[i+nqbits],i)\n",
    "\n",
    "    # Second Ry layer\n",
    "    for i in range(nqbits):\n",
    "        qc_ansatz.rz(thetas_rz[i+nqbits],i)\n",
    "        \n",
    "    qc_ansatz.barrier() \n",
    "    \n",
    "qc_ansatz.draw('mpl')"
   ]
  },
  {
   "cell_type": "code",
   "execution_count": null,
   "id": "34318dd4-5d5f-494e-92b9-d3f907863a28",
   "metadata": {},
   "outputs": [],
   "source": []
  }
 ],
 "metadata": {
  "kernelspec": {
   "display_name": "Python 3 (ipykernel)",
   "language": "python",
   "name": "python3"
  },
  "language_info": {
   "codemirror_mode": {
    "name": "ipython",
    "version": 3
   },
   "file_extension": ".py",
   "mimetype": "text/x-python",
   "name": "python",
   "nbconvert_exporter": "python",
   "pygments_lexer": "ipython3",
   "version": "3.9.14"
  }
 },
 "nbformat": 4,
 "nbformat_minor": 5
}
